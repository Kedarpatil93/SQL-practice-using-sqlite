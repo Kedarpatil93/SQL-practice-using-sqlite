{
  "cells": [
    {
      "cell_type": "code",
      "execution_count": null,
      "metadata": {
        "colab": {
          "base_uri": "https://localhost:8080/"
        },
        "id": "DGxMv5GEQ8Dl",
        "outputId": "e79f8f06-ec1d-4eb1-8cc6-42e7480a9b7f"
      },
      "outputs": [
        {
          "output_type": "stream",
          "name": "stdout",
          "text": [
            "CSV converted to DB successfully!\n"
          ]
        }
      ],
      "source": [
        "import pandas as pd\n",
        "import sqlite3\n",
        "\n",
        "# Load CSV\n",
        "df = pd.read_csv('/content/ipl_dataset.csv')  # path of your dataset\n",
        "\n",
        "# Create SQLite DB file\n",
        "conn = sqlite3.connect('/content/ipl_data.db')  # This will create a .db file\n",
        "df.to_sql('ipl', conn, index=False, if_exists='replace')\n",
        "\n",
        "conn.close()\n",
        "print(\"CSV converted to DB successfully!\")"
      ]
    },
    {
      "cell_type": "code",
      "source": [
        "ipl_data = pd.read_csv(\"ipl_dataset.csv\")\n",
        "ipl_data.head(5)"
      ],
      "metadata": {
        "id": "5DMx6wcb9yo7",
        "colab": {
          "base_uri": "https://localhost:8080/",
          "height": 330
        },
        "outputId": "6b898f12-5e90-4fcb-b468-6d7a3cd984a9"
      },
      "execution_count": null,
      "outputs": [
        {
          "output_type": "execute_result",
          "data": {
            "text/plain": [
              "        ID  innings  overs  ballnumber       batter          bowler  \\\n",
              "0  1312200        1      0           1  YBK Jaiswal  Mohammed Shami   \n",
              "1  1312200        1      0           2  YBK Jaiswal  Mohammed Shami   \n",
              "2  1312200        1      0           3   JC Buttler  Mohammed Shami   \n",
              "3  1312200        1      0           4  YBK Jaiswal  Mohammed Shami   \n",
              "4  1312200        1      0           5  YBK Jaiswal  Mohammed Shami   \n",
              "\n",
              "   non-striker extra_type  batsman_run  extras_run  total_run  non_boundary  \\\n",
              "0   JC Buttler        NaN            0           0          0             0   \n",
              "1   JC Buttler    legbyes            0           1          1             0   \n",
              "2  YBK Jaiswal        NaN            1           0          1             0   \n",
              "3   JC Buttler        NaN            0           0          0             0   \n",
              "4   JC Buttler        NaN            0           0          0             0   \n",
              "\n",
              "   isWicketDelivery player_out kind fielders_involved       BattingTeam  \n",
              "0                 0        NaN  NaN               NaN  Rajasthan Royals  \n",
              "1                 0        NaN  NaN               NaN  Rajasthan Royals  \n",
              "2                 0        NaN  NaN               NaN  Rajasthan Royals  \n",
              "3                 0        NaN  NaN               NaN  Rajasthan Royals  \n",
              "4                 0        NaN  NaN               NaN  Rajasthan Royals  "
            ],
            "text/html": [
              "\n",
              "  <div id=\"df-64479e1b-f4ef-444f-a097-a7faa9c4ada6\" class=\"colab-df-container\">\n",
              "    <div>\n",
              "<style scoped>\n",
              "    .dataframe tbody tr th:only-of-type {\n",
              "        vertical-align: middle;\n",
              "    }\n",
              "\n",
              "    .dataframe tbody tr th {\n",
              "        vertical-align: top;\n",
              "    }\n",
              "\n",
              "    .dataframe thead th {\n",
              "        text-align: right;\n",
              "    }\n",
              "</style>\n",
              "<table border=\"1\" class=\"dataframe\">\n",
              "  <thead>\n",
              "    <tr style=\"text-align: right;\">\n",
              "      <th></th>\n",
              "      <th>ID</th>\n",
              "      <th>innings</th>\n",
              "      <th>overs</th>\n",
              "      <th>ballnumber</th>\n",
              "      <th>batter</th>\n",
              "      <th>bowler</th>\n",
              "      <th>non-striker</th>\n",
              "      <th>extra_type</th>\n",
              "      <th>batsman_run</th>\n",
              "      <th>extras_run</th>\n",
              "      <th>total_run</th>\n",
              "      <th>non_boundary</th>\n",
              "      <th>isWicketDelivery</th>\n",
              "      <th>player_out</th>\n",
              "      <th>kind</th>\n",
              "      <th>fielders_involved</th>\n",
              "      <th>BattingTeam</th>\n",
              "    </tr>\n",
              "  </thead>\n",
              "  <tbody>\n",
              "    <tr>\n",
              "      <th>0</th>\n",
              "      <td>1312200</td>\n",
              "      <td>1</td>\n",
              "      <td>0</td>\n",
              "      <td>1</td>\n",
              "      <td>YBK Jaiswal</td>\n",
              "      <td>Mohammed Shami</td>\n",
              "      <td>JC Buttler</td>\n",
              "      <td>NaN</td>\n",
              "      <td>0</td>\n",
              "      <td>0</td>\n",
              "      <td>0</td>\n",
              "      <td>0</td>\n",
              "      <td>0</td>\n",
              "      <td>NaN</td>\n",
              "      <td>NaN</td>\n",
              "      <td>NaN</td>\n",
              "      <td>Rajasthan Royals</td>\n",
              "    </tr>\n",
              "    <tr>\n",
              "      <th>1</th>\n",
              "      <td>1312200</td>\n",
              "      <td>1</td>\n",
              "      <td>0</td>\n",
              "      <td>2</td>\n",
              "      <td>YBK Jaiswal</td>\n",
              "      <td>Mohammed Shami</td>\n",
              "      <td>JC Buttler</td>\n",
              "      <td>legbyes</td>\n",
              "      <td>0</td>\n",
              "      <td>1</td>\n",
              "      <td>1</td>\n",
              "      <td>0</td>\n",
              "      <td>0</td>\n",
              "      <td>NaN</td>\n",
              "      <td>NaN</td>\n",
              "      <td>NaN</td>\n",
              "      <td>Rajasthan Royals</td>\n",
              "    </tr>\n",
              "    <tr>\n",
              "      <th>2</th>\n",
              "      <td>1312200</td>\n",
              "      <td>1</td>\n",
              "      <td>0</td>\n",
              "      <td>3</td>\n",
              "      <td>JC Buttler</td>\n",
              "      <td>Mohammed Shami</td>\n",
              "      <td>YBK Jaiswal</td>\n",
              "      <td>NaN</td>\n",
              "      <td>1</td>\n",
              "      <td>0</td>\n",
              "      <td>1</td>\n",
              "      <td>0</td>\n",
              "      <td>0</td>\n",
              "      <td>NaN</td>\n",
              "      <td>NaN</td>\n",
              "      <td>NaN</td>\n",
              "      <td>Rajasthan Royals</td>\n",
              "    </tr>\n",
              "    <tr>\n",
              "      <th>3</th>\n",
              "      <td>1312200</td>\n",
              "      <td>1</td>\n",
              "      <td>0</td>\n",
              "      <td>4</td>\n",
              "      <td>YBK Jaiswal</td>\n",
              "      <td>Mohammed Shami</td>\n",
              "      <td>JC Buttler</td>\n",
              "      <td>NaN</td>\n",
              "      <td>0</td>\n",
              "      <td>0</td>\n",
              "      <td>0</td>\n",
              "      <td>0</td>\n",
              "      <td>0</td>\n",
              "      <td>NaN</td>\n",
              "      <td>NaN</td>\n",
              "      <td>NaN</td>\n",
              "      <td>Rajasthan Royals</td>\n",
              "    </tr>\n",
              "    <tr>\n",
              "      <th>4</th>\n",
              "      <td>1312200</td>\n",
              "      <td>1</td>\n",
              "      <td>0</td>\n",
              "      <td>5</td>\n",
              "      <td>YBK Jaiswal</td>\n",
              "      <td>Mohammed Shami</td>\n",
              "      <td>JC Buttler</td>\n",
              "      <td>NaN</td>\n",
              "      <td>0</td>\n",
              "      <td>0</td>\n",
              "      <td>0</td>\n",
              "      <td>0</td>\n",
              "      <td>0</td>\n",
              "      <td>NaN</td>\n",
              "      <td>NaN</td>\n",
              "      <td>NaN</td>\n",
              "      <td>Rajasthan Royals</td>\n",
              "    </tr>\n",
              "  </tbody>\n",
              "</table>\n",
              "</div>\n",
              "    <div class=\"colab-df-buttons\">\n",
              "\n",
              "  <div class=\"colab-df-container\">\n",
              "    <button class=\"colab-df-convert\" onclick=\"convertToInteractive('df-64479e1b-f4ef-444f-a097-a7faa9c4ada6')\"\n",
              "            title=\"Convert this dataframe to an interactive table.\"\n",
              "            style=\"display:none;\">\n",
              "\n",
              "  <svg xmlns=\"http://www.w3.org/2000/svg\" height=\"24px\" viewBox=\"0 -960 960 960\">\n",
              "    <path d=\"M120-120v-720h720v720H120Zm60-500h600v-160H180v160Zm220 220h160v-160H400v160Zm0 220h160v-160H400v160ZM180-400h160v-160H180v160Zm440 0h160v-160H620v160ZM180-180h160v-160H180v160Zm440 0h160v-160H620v160Z\"/>\n",
              "  </svg>\n",
              "    </button>\n",
              "\n",
              "  <style>\n",
              "    .colab-df-container {\n",
              "      display:flex;\n",
              "      gap: 12px;\n",
              "    }\n",
              "\n",
              "    .colab-df-convert {\n",
              "      background-color: #E8F0FE;\n",
              "      border: none;\n",
              "      border-radius: 50%;\n",
              "      cursor: pointer;\n",
              "      display: none;\n",
              "      fill: #1967D2;\n",
              "      height: 32px;\n",
              "      padding: 0 0 0 0;\n",
              "      width: 32px;\n",
              "    }\n",
              "\n",
              "    .colab-df-convert:hover {\n",
              "      background-color: #E2EBFA;\n",
              "      box-shadow: 0px 1px 2px rgba(60, 64, 67, 0.3), 0px 1px 3px 1px rgba(60, 64, 67, 0.15);\n",
              "      fill: #174EA6;\n",
              "    }\n",
              "\n",
              "    .colab-df-buttons div {\n",
              "      margin-bottom: 4px;\n",
              "    }\n",
              "\n",
              "    [theme=dark] .colab-df-convert {\n",
              "      background-color: #3B4455;\n",
              "      fill: #D2E3FC;\n",
              "    }\n",
              "\n",
              "    [theme=dark] .colab-df-convert:hover {\n",
              "      background-color: #434B5C;\n",
              "      box-shadow: 0px 1px 3px 1px rgba(0, 0, 0, 0.15);\n",
              "      filter: drop-shadow(0px 1px 2px rgba(0, 0, 0, 0.3));\n",
              "      fill: #FFFFFF;\n",
              "    }\n",
              "  </style>\n",
              "\n",
              "    <script>\n",
              "      const buttonEl =\n",
              "        document.querySelector('#df-64479e1b-f4ef-444f-a097-a7faa9c4ada6 button.colab-df-convert');\n",
              "      buttonEl.style.display =\n",
              "        google.colab.kernel.accessAllowed ? 'block' : 'none';\n",
              "\n",
              "      async function convertToInteractive(key) {\n",
              "        const element = document.querySelector('#df-64479e1b-f4ef-444f-a097-a7faa9c4ada6');\n",
              "        const dataTable =\n",
              "          await google.colab.kernel.invokeFunction('convertToInteractive',\n",
              "                                                    [key], {});\n",
              "        if (!dataTable) return;\n",
              "\n",
              "        const docLinkHtml = 'Like what you see? Visit the ' +\n",
              "          '<a target=\"_blank\" href=https://colab.research.google.com/notebooks/data_table.ipynb>data table notebook</a>'\n",
              "          + ' to learn more about interactive tables.';\n",
              "        element.innerHTML = '';\n",
              "        dataTable['output_type'] = 'display_data';\n",
              "        await google.colab.output.renderOutput(dataTable, element);\n",
              "        const docLink = document.createElement('div');\n",
              "        docLink.innerHTML = docLinkHtml;\n",
              "        element.appendChild(docLink);\n",
              "      }\n",
              "    </script>\n",
              "  </div>\n",
              "\n",
              "\n",
              "    <div id=\"df-97bf0de5-e318-4cf3-8da6-4545d1b2a65e\">\n",
              "      <button class=\"colab-df-quickchart\" onclick=\"quickchart('df-97bf0de5-e318-4cf3-8da6-4545d1b2a65e')\"\n",
              "                title=\"Suggest charts\"\n",
              "                style=\"display:none;\">\n",
              "\n",
              "<svg xmlns=\"http://www.w3.org/2000/svg\" height=\"24px\"viewBox=\"0 0 24 24\"\n",
              "     width=\"24px\">\n",
              "    <g>\n",
              "        <path d=\"M19 3H5c-1.1 0-2 .9-2 2v14c0 1.1.9 2 2 2h14c1.1 0 2-.9 2-2V5c0-1.1-.9-2-2-2zM9 17H7v-7h2v7zm4 0h-2V7h2v10zm4 0h-2v-4h2v4z\"/>\n",
              "    </g>\n",
              "</svg>\n",
              "      </button>\n",
              "\n",
              "<style>\n",
              "  .colab-df-quickchart {\n",
              "      --bg-color: #E8F0FE;\n",
              "      --fill-color: #1967D2;\n",
              "      --hover-bg-color: #E2EBFA;\n",
              "      --hover-fill-color: #174EA6;\n",
              "      --disabled-fill-color: #AAA;\n",
              "      --disabled-bg-color: #DDD;\n",
              "  }\n",
              "\n",
              "  [theme=dark] .colab-df-quickchart {\n",
              "      --bg-color: #3B4455;\n",
              "      --fill-color: #D2E3FC;\n",
              "      --hover-bg-color: #434B5C;\n",
              "      --hover-fill-color: #FFFFFF;\n",
              "      --disabled-bg-color: #3B4455;\n",
              "      --disabled-fill-color: #666;\n",
              "  }\n",
              "\n",
              "  .colab-df-quickchart {\n",
              "    background-color: var(--bg-color);\n",
              "    border: none;\n",
              "    border-radius: 50%;\n",
              "    cursor: pointer;\n",
              "    display: none;\n",
              "    fill: var(--fill-color);\n",
              "    height: 32px;\n",
              "    padding: 0;\n",
              "    width: 32px;\n",
              "  }\n",
              "\n",
              "  .colab-df-quickchart:hover {\n",
              "    background-color: var(--hover-bg-color);\n",
              "    box-shadow: 0 1px 2px rgba(60, 64, 67, 0.3), 0 1px 3px 1px rgba(60, 64, 67, 0.15);\n",
              "    fill: var(--button-hover-fill-color);\n",
              "  }\n",
              "\n",
              "  .colab-df-quickchart-complete:disabled,\n",
              "  .colab-df-quickchart-complete:disabled:hover {\n",
              "    background-color: var(--disabled-bg-color);\n",
              "    fill: var(--disabled-fill-color);\n",
              "    box-shadow: none;\n",
              "  }\n",
              "\n",
              "  .colab-df-spinner {\n",
              "    border: 2px solid var(--fill-color);\n",
              "    border-color: transparent;\n",
              "    border-bottom-color: var(--fill-color);\n",
              "    animation:\n",
              "      spin 1s steps(1) infinite;\n",
              "  }\n",
              "\n",
              "  @keyframes spin {\n",
              "    0% {\n",
              "      border-color: transparent;\n",
              "      border-bottom-color: var(--fill-color);\n",
              "      border-left-color: var(--fill-color);\n",
              "    }\n",
              "    20% {\n",
              "      border-color: transparent;\n",
              "      border-left-color: var(--fill-color);\n",
              "      border-top-color: var(--fill-color);\n",
              "    }\n",
              "    30% {\n",
              "      border-color: transparent;\n",
              "      border-left-color: var(--fill-color);\n",
              "      border-top-color: var(--fill-color);\n",
              "      border-right-color: var(--fill-color);\n",
              "    }\n",
              "    40% {\n",
              "      border-color: transparent;\n",
              "      border-right-color: var(--fill-color);\n",
              "      border-top-color: var(--fill-color);\n",
              "    }\n",
              "    60% {\n",
              "      border-color: transparent;\n",
              "      border-right-color: var(--fill-color);\n",
              "    }\n",
              "    80% {\n",
              "      border-color: transparent;\n",
              "      border-right-color: var(--fill-color);\n",
              "      border-bottom-color: var(--fill-color);\n",
              "    }\n",
              "    90% {\n",
              "      border-color: transparent;\n",
              "      border-bottom-color: var(--fill-color);\n",
              "    }\n",
              "  }\n",
              "</style>\n",
              "\n",
              "      <script>\n",
              "        async function quickchart(key) {\n",
              "          const quickchartButtonEl =\n",
              "            document.querySelector('#' + key + ' button');\n",
              "          quickchartButtonEl.disabled = true;  // To prevent multiple clicks.\n",
              "          quickchartButtonEl.classList.add('colab-df-spinner');\n",
              "          try {\n",
              "            const charts = await google.colab.kernel.invokeFunction(\n",
              "                'suggestCharts', [key], {});\n",
              "          } catch (error) {\n",
              "            console.error('Error during call to suggestCharts:', error);\n",
              "          }\n",
              "          quickchartButtonEl.classList.remove('colab-df-spinner');\n",
              "          quickchartButtonEl.classList.add('colab-df-quickchart-complete');\n",
              "        }\n",
              "        (() => {\n",
              "          let quickchartButtonEl =\n",
              "            document.querySelector('#df-97bf0de5-e318-4cf3-8da6-4545d1b2a65e button');\n",
              "          quickchartButtonEl.style.display =\n",
              "            google.colab.kernel.accessAllowed ? 'block' : 'none';\n",
              "        })();\n",
              "      </script>\n",
              "    </div>\n",
              "\n",
              "    </div>\n",
              "  </div>\n"
            ],
            "application/vnd.google.colaboratory.intrinsic+json": {
              "type": "dataframe",
              "variable_name": "ipl_data"
            }
          },
          "metadata": {},
          "execution_count": 4
        }
      ]
    },
    {
      "cell_type": "code",
      "execution_count": null,
      "metadata": {
        "id": "Ku9T0PChRioc"
      },
      "outputs": [],
      "source": [
        "conn = sqlite3.connect('/content/ipl_data.db')"
      ]
    },
    {
      "cell_type": "markdown",
      "source": [
        "### 1 . Find top 5 batsman in ipl"
      ],
      "metadata": {
        "id": "tNaWnGgo-cAi"
      }
    },
    {
      "cell_type": "code",
      "source": [
        "q=\"\"\"\n",
        "Write query here.\n",
        "\"\"\"\n",
        "df_result = pd.read_sql_query(q, conn)\n",
        "print(df_result)"
      ],
      "metadata": {
        "colab": {
          "base_uri": "https://localhost:8080/"
        },
        "id": "NCAlhdF04ohD",
        "outputId": "ea936541-791a-4e24-9fc6-c1323e3fef07"
      },
      "execution_count": null,
      "outputs": [
        {
          "output_type": "stream",
          "name": "stdout",
          "text": [
            "      batter  runs\n",
            "0    V Kohli  6634\n",
            "1   S Dhawan  6244\n",
            "2  DA Warner  5883\n",
            "3  RG Sharma  5881\n",
            "4   SK Raina  5536\n"
          ]
        }
      ]
    },
    {
      "cell_type": "markdown",
      "source": [
        "### 2. Find 2nd highest 6 hitter in IPL"
      ],
      "metadata": {
        "id": "Tsc3sgXQ-s-W"
      }
    },
    {
      "cell_type": "code",
      "source": [
        "q=\"\"\"\n",
        "Write query here.\n",
        "\"\"\"\n",
        "df_result = pd.read_sql_query(q, conn)\n",
        "print(df_result)"
      ],
      "metadata": {
        "colab": {
          "base_uri": "https://localhost:8080/"
        },
        "id": "15Jx9_9G54lf",
        "outputId": "31ea6bcd-e2a7-4e4f-cce3-0679735ae8af"
      },
      "execution_count": null,
      "outputs": [
        {
          "output_type": "stream",
          "name": "stdout",
          "text": [
            "           batter  no_of_sixes\n",
            "0  AB de Villiers          253\n"
          ]
        }
      ]
    },
    {
      "cell_type": "markdown",
      "source": [
        "### 3. Find Virat Kohli's performance  "
      ],
      "metadata": {
        "id": "UPEqqe_A_9t6"
      }
    },
    {
      "cell_type": "code",
      "source": [
        "q=\"\"\"\n",
        "Write query here.\n",
        "\"\"\"\n",
        "df_result = pd.read_sql_query(q, conn)\n",
        "print(df_result)"
      ],
      "metadata": {
        "colab": {
          "base_uri": "https://localhost:8080/"
        },
        "id": "_spb_7x-_LML",
        "outputId": "bfdf1e38-2d83-4f91-97fc-97c7ca205326"
      },
      "execution_count": null,
      "outputs": [
        {
          "output_type": "stream",
          "name": "stdout",
          "text": [
            "                   BattingTeam  SUM(batsman_run)\n",
            "0  Royal Challengers Bangalore              6634\n"
          ]
        }
      ]
    },
    {
      "cell_type": "markdown",
      "source": [
        "4. Find top 10 batsman in the order of highest runs scored in individual match"
      ],
      "metadata": {
        "id": "xzq050m9VQ4s"
      }
    },
    {
      "cell_type": "code",
      "source": [
        "q=\"\"\"\n",
        "Write query here.\n",
        "\"\"\"\n",
        "result = pd.read_sql_query(q,conn)\n",
        "print(result)"
      ],
      "metadata": {
        "id": "mECIWOSLAgT0",
        "colab": {
          "base_uri": "https://localhost:8080/"
        },
        "outputId": "f52abb8a-f846-45c3-fecd-19f81267616a"
      },
      "execution_count": null,
      "outputs": [
        {
          "output_type": "stream",
          "name": "stdout",
          "text": [
            "        ID          batter  runs\n",
            "0   598027        CH Gayle   175\n",
            "1   335982     BB McCullum   158\n",
            "2  1304112       Q de Kock   140\n",
            "3   829795  AB de Villiers   133\n",
            "4  1216510        KL Rahul   132\n",
            "5   980987  AB de Villiers   129\n",
            "6   548372        CH Gayle   128\n",
            "7  1136602         RR Pant   128\n",
            "8   419137         M Vijay   127\n",
            "9  1082627       DA Warner   126\n"
          ]
        }
      ]
    },
    {
      "cell_type": "markdown",
      "source": [
        "5. Find top 10 batsman in the order of highest number of centuries"
      ],
      "metadata": {
        "id": "Ge7sRi74bNOM"
      }
    },
    {
      "cell_type": "code",
      "source": [
        "q=\"\"\"\n",
        "Write query here.\n",
        "\"\"\"\n",
        "result = pd.read_sql_query(q,conn)\n",
        "print(result)"
      ],
      "metadata": {
        "id": "vrgkP9J-VzDP"
      },
      "execution_count": null,
      "outputs": []
    }
  ],
  "metadata": {
    "colab": {
      "provenance": []
    },
    "kernelspec": {
      "display_name": "Python 3",
      "name": "python3"
    },
    "language_info": {
      "name": "python"
    }
  },
  "nbformat": 4,
  "nbformat_minor": 0
}