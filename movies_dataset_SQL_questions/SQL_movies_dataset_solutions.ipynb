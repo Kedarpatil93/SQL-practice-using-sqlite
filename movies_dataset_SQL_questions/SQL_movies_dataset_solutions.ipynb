{
  "cells": [
    {
      "cell_type": "code",
      "execution_count": null,
      "metadata": {
        "colab": {
          "base_uri": "https://localhost:8080/"
        },
        "id": "DGxMv5GEQ8Dl",
        "outputId": "36f6e9dc-d350-4623-826d-a5ef27fbbc06"
      },
      "outputs": [
        {
          "output_type": "stream",
          "name": "stdout",
          "text": [
            "CSV converted to DB successfully!\n"
          ]
        }
      ],
      "source": [
        "import pandas as pd\n",
        "import sqlite3\n",
        "\n",
        "# Load CSV\n",
        "\n",
        "df_movies = pd.read_csv('/content/movies.csv',encoding ='latin1',on_bad_lines='skip', sep=';')  # path of your dataset\n",
        "\n",
        "# Create SQLite DB file\n",
        "conn = sqlite3.connect(':memory:')\n",
        "df_movies.to_sql('movies', conn, index=False, if_exists='replace')\n",
        "\n",
        "#conn.close()\n",
        "print(\"CSV converted to DB successfully!\")"
      ]
    },
    {
      "cell_type": "code",
      "source": [
        "print(df_movies.columns)"
      ],
      "metadata": {
        "colab": {
          "base_uri": "https://localhost:8080/"
        },
        "id": "8MIEV60Mn_hb",
        "outputId": "cf22b20e-a1fd-4b1a-8c77-755241ffd4e5"
      },
      "execution_count": null,
      "outputs": [
        {
          "output_type": "stream",
          "name": "stdout",
          "text": [
            "Index(['name', 'rating', 'genre', 'year', 'released', 'score', 'votes',\n",
            "       'director', 'writer', 'star', 'country', 'budget', 'gross', 'company',\n",
            "       'runtime'],\n",
            "      dtype='object')\n"
          ]
        }
      ]
    },
    {
      "cell_type": "markdown",
      "source": [
        "### Independent Subqueries"
      ],
      "metadata": {
        "id": "fng1YdXE8O_e"
      }
    },
    {
      "cell_type": "markdown",
      "source": [
        "1. Show movie with max profit"
      ],
      "metadata": {
        "id": "nvv-4sQtbirr"
      }
    },
    {
      "cell_type": "code",
      "execution_count": null,
      "metadata": {
        "id": "qyJpbvi4RpKJ",
        "colab": {
          "base_uri": "https://localhost:8080/"
        },
        "outputId": "9f95c21c-7d29-47e6-cba9-938d609e839a"
      },
      "outputs": [
        {
          "output_type": "stream",
          "name": "stdout",
          "text": [
            "      name rating  genre  year                           released  score  \\\n",
            "0  Titanic  PG-13  Drama  1997  December 19, 1997 (United States)    7.8   \n",
            "\n",
            "       votes       director         writer               star        country  \\\n",
            "0  1100000.0  James Cameron  James Cameron  Leonardo DiCaprio  United States   \n",
            "\n",
            "      budget         gross                company  runtime  \n",
            "0  200000000  2.201647e+09  Twentieth Century Fox    194.0  \n"
          ]
        }
      ],
      "source": [
        "query=\"\"\"\n",
        "SELECT * FROM movies\n",
        "WHERE gross-budget = (SELECT MAX(gross-budget) FROM movies)\n",
        "\"\"\"\n",
        "result = pd.read_sql_query(query, conn)\n",
        "print(result)"
      ]
    },
    {
      "cell_type": "markdown",
      "source": [
        "2. how many movies are above average"
      ],
      "metadata": {
        "id": "TWRBycr6n0UE"
      }
    },
    {
      "cell_type": "code",
      "source": [
        "query=\"\"\"\n",
        "SELECT COUNT(name) as movies_above_avg FROM movies\n",
        "WHERE score > (SELECT AVG(score) FROM movies)\n",
        "\"\"\"\n",
        "result = pd.read_sql_query(query, conn)\n",
        "print(result)"
      ],
      "metadata": {
        "colab": {
          "base_uri": "https://localhost:8080/"
        },
        "id": "X1Mkofamnz62",
        "outputId": "8a490005-469f-43af-e83a-12e3bbfd8704"
      },
      "execution_count": null,
      "outputs": [
        {
          "output_type": "stream",
          "name": "stdout",
          "text": [
            "   movies_above_avg\n",
            "0              2077\n"
          ]
        }
      ]
    },
    {
      "cell_type": "markdown",
      "source": [
        "3. Find the highest rated movie of 2000"
      ],
      "metadata": {
        "id": "JphH5VxAq4Bu"
      }
    },
    {
      "cell_type": "code",
      "source": [
        "query = \"\"\"\n",
        "SELECT name,score FROM movies\n",
        "WHERE year = 2000 and score = (SELECT MAX(score) FROM movies\n",
        "                               WHERE year = 2000)\n",
        "\n",
        "\n",
        "\"\"\"\n",
        "result = pd.read_sql_query(query, conn)\n",
        "print(result)"
      ],
      "metadata": {
        "colab": {
          "base_uri": "https://localhost:8080/"
        },
        "id": "oZLt1KtHpBYi",
        "outputId": "66ff0e41-653f-4d2b-af91-18b2e7cbbfa2"
      },
      "execution_count": null,
      "outputs": [
        {
          "output_type": "stream",
          "name": "stdout",
          "text": [
            "        name  score\n",
            "0  Gladiator    8.5\n"
          ]
        }
      ]
    },
    {
      "cell_type": "markdown",
      "source": [
        "4. Find the highest rated movie among all movies whose number of votes are > the dataset avg votes"
      ],
      "metadata": {
        "id": "EWYsqzcdsHYn"
      }
    },
    {
      "cell_type": "code",
      "source": [
        "query = \"\"\"\n",
        "\n",
        "SELECT name FROM movies\n",
        "WHERE score = (SELECT MAX(score) FROM movies\n",
        "               WHERE votes > (SELECT AVG(votes) FROM movies))\n",
        "\n",
        "\"\"\"\n",
        "result = pd.read_sql_query(query, conn)\n",
        "print(result)"
      ],
      "metadata": {
        "colab": {
          "base_uri": "https://localhost:8080/"
        },
        "id": "SUhoO632rddi",
        "outputId": "5074dd67-36e8-48c0-cdcf-7e7005bb07e8"
      },
      "execution_count": null,
      "outputs": [
        {
          "output_type": "stream",
          "name": "stdout",
          "text": [
            "                       name\n",
            "0  The Shawshank Redemption\n"
          ]
        }
      ]
    },
    {
      "cell_type": "markdown",
      "source": [
        "5. Find all movies made by top 3 directors (in terms of total gross income)"
      ],
      "metadata": {
        "id": "hQ6YJhsLLqlw"
      }
    },
    {
      "cell_type": "code",
      "source": [
        "query = \"\"\"\n",
        "\n",
        "SELECT name FROM movies\n",
        "WHERE director in (SELECT director FROM movies\n",
        "                   GROUP BY director\n",
        "                   ORDER BY SUM(gross) DESC LIMIT 3)\n",
        "\n",
        "\"\"\"\n",
        "result = pd.read_sql_query(query, conn)\n",
        "print(result)"
      ],
      "metadata": {
        "id": "i7O3ZxFkvZdu",
        "colab": {
          "base_uri": "https://localhost:8080/"
        },
        "outputId": "f6e9029f-d424-4c93-96a5-aeb9b8dc552a"
      },
      "execution_count": null,
      "outputs": [
        {
          "output_type": "stream",
          "name": "stdout",
          "text": [
            "                                             name\n",
            "0   Indiana Jones and the Raiders of the Lost Ark\n",
            "1                      E.T. the Extra-Terrestrial\n",
            "2                                  The Terminator\n",
            "3            Indiana Jones and the Temple of Doom\n",
            "4                             Romancing the Stone\n",
            "5                              Back to the Future\n",
            "6                                The Color Purple\n",
            "7                                          Aliens\n",
            "8                               Empire of the Sun\n",
            "9                         Who Framed Roger Rabbit\n",
            "10             Indiana Jones and the Last Crusade\n",
            "11                                      The Abyss\n",
            "12                     Back to the Future Part II\n",
            "13                                         Always\n",
            "14                    Back to the Future Part III\n",
            "15                     Terminator 2: Judgment Day\n",
            "16                                           Hook\n",
            "17                              Death Becomes Her\n",
            "18                                  Jurassic Park\n",
            "19                               Schindler's List\n",
            "20                                   Forrest Gump\n",
            "21                                      True Lies\n",
            "22                                        Titanic\n",
            "23                                        Contact\n",
            "24                  The Lost World: Jurassic Park\n",
            "25                                        Amistad\n",
            "26                            Saving Private Ryan\n",
            "27                                      Cast Away\n",
            "28                              What Lies Beneath\n",
            "29                   A.I. Artificial Intelligence\n"
          ]
        }
      ]
    },
    {
      "cell_type": "markdown",
      "source": [
        " 6. Find all movies of all those actors whose filmography's avg rating > 8.5  ( take 25000 votes as cutoff)"
      ],
      "metadata": {
        "id": "o5xLGlnIP3zX"
      }
    },
    {
      "cell_type": "code",
      "source": [
        "query = \"\"\"\n",
        "SELECT name FROM movies\n",
        "WHERE star IN (SELECT star FROM movies\n",
        "               WHERE votes > 25000\n",
        "               GROUP BY star\n",
        "               HAVING AVG(score) > 8.5)\n",
        "\"\"\"\n",
        "result = pd.read_sql_query(query, conn)\n",
        "print(result)"
      ],
      "metadata": {
        "colab": {
          "base_uri": "https://localhost:8080/"
        },
        "id": "eiTorwqwL8hX",
        "outputId": "0757cd92-ea35-42cb-e844-eb865ab61d92"
      },
      "execution_count": null,
      "outputs": [
        {
          "output_type": "stream",
          "name": "stdout",
          "text": [
            "                                                name\n",
            "0                                   Johnny Stecchino\n",
            "1                        The Adventures of Huck Finn\n",
            "2                            Son of the Pink Panther\n",
            "3                                              North\n",
            "4                                            The War\n",
            "5                                  Life Is Beautiful\n",
            "6  The Lord of the Rings: The Fellowship of the Ring\n",
            "7                                      Spirited Away\n"
          ]
        }
      ]
    },
    {
      "cell_type": "markdown",
      "source": [
        "7. Find the most profitable movie of each year"
      ],
      "metadata": {
        "id": "XecjmKV6bxpD"
      }
    },
    {
      "cell_type": "code",
      "source": [
        "query = \"\"\"\n",
        "SELECT name,year FROM movies\n",
        "WHERE (year,(gross-budget)) in (SELECT year, MAX(gross-budget) FROM movies\n",
        "                        GROUP BY year)\n",
        "\n",
        "\"\"\"\n",
        "result = pd.read_sql_query(query, conn)\n",
        "print(result)"
      ],
      "metadata": {
        "colab": {
          "base_uri": "https://localhost:8080/"
        },
        "id": "KvwK8xaYRLhr",
        "outputId": "591c9d92-44e0-4306-ddac-4a5d310fe398"
      },
      "execution_count": null,
      "outputs": [
        {
          "output_type": "stream",
          "name": "stdout",
          "text": [
            "                                              name  year\n",
            "0   Star Wars: Episode V - The Empire Strikes Back  1980\n",
            "1    Indiana Jones and the Raiders of the Lost Ark  1981\n",
            "2                       E.T. the Extra-Terrestrial  1982\n",
            "3       Star Wars: Episode VI - Return of the Jedi  1983\n",
            "4             Indiana Jones and the Temple of Doom  1984\n",
            "5                               Back to the Future  1985\n",
            "6                                          Top Gun  1986\n",
            "7                                 Fatal Attraction  1987\n",
            "8                                         Rain Man  1988\n",
            "9               Indiana Jones and the Last Crusade  1989\n",
            "10                                           Ghost  1990\n",
            "11                      Terminator 2: Judgment Day  1991\n",
            "12                                         Aladdin  1992\n",
            "13                                   Jurassic Park  1993\n",
            "14                                   The Lion King  1994\n",
            "15                                       Toy Story  1995\n",
            "16                                Independence Day  1996\n",
            "17                                         Titanic  1997\n",
            "18                                      Armageddon  1998\n",
            "19       Star Wars: Episode I - The Phantom Menace  1999\n",
            "20                          Mission: Impossible II  2000\n",
            "21           Harry Potter and the Sorcerer's Stone  2001\n"
          ]
        }
      ]
    },
    {
      "cell_type": "code",
      "source": [
        "query = \"\"\"\n",
        "SELECT name,year,MAX(gross-budget) FROM movies\n",
        "GROUP BY year\n",
        "\n",
        "\"\"\"\n",
        "result = pd.read_sql_query(query, conn)\n",
        "print(result)"
      ],
      "metadata": {
        "colab": {
          "base_uri": "https://localhost:8080/"
        },
        "id": "gC4_Q-pScBCz",
        "outputId": "2cec7f3b-643f-49c7-fb92-4f710b76ba06"
      },
      "execution_count": null,
      "outputs": [
        {
          "output_type": "stream",
          "name": "stdout",
          "text": [
            "                                              name  year  MAX(gross-budget)\n",
            "0   Star Wars: Episode V - The Empire Strikes Back  1980       5.203751e+08\n",
            "1    Indiana Jones and the Raiders of the Lost Ark  1981       3.719260e+08\n",
            "2                       E.T. the Extra-Terrestrial  1982       7.824106e+08\n",
            "3       Star Wars: Episode VI - Return of the Jedi  1983       4.426062e+08\n",
            "4             Indiana Jones and the Temple of Doom  1984       3.051073e+08\n",
            "5                               Back to the Future  1985       3.629068e+08\n",
            "6                                          Top Gun  1986       3.422882e+08\n",
            "7                                 Fatal Attraction  1987       3.061457e+08\n",
            "8                                         Rain Man  1988       3.298254e+08\n",
            "9               Indiana Jones and the Last Crusade  1989       4.261718e+08\n",
            "10                                           Ghost  1990       4.837036e+08\n",
            "11                      Terminator 2: Judgment Day  1991       4.188812e+08\n",
            "12                                         Aladdin  1992       4.760502e+08\n",
            "13                                   Jurassic Park  1993       9.709283e+08\n",
            "14                                   The Lion King  1994       1.038721e+09\n",
            "15                                       Toy Story  1995       3.644366e+08\n",
            "16                                Independence Day  1996       7.424009e+08\n",
            "17                                         Titanic  1997       2.001647e+09\n",
            "18                                      Armageddon  1998       4.137098e+08\n",
            "19       Star Wars: Episode I - The Phantom Menace  1999       9.120827e+08\n",
            "20                          Mission: Impossible II  2000       4.213881e+08\n",
            "21           Harry Potter and the Sorcerer's Stone  2001       8.819682e+08\n"
          ]
        }
      ]
    },
    {
      "cell_type": "markdown",
      "source": [
        "8. Find the highest rated movie of each genre votes cutoff of 25000"
      ],
      "metadata": {
        "id": "X9-qSs5Vd_gh"
      }
    },
    {
      "cell_type": "code",
      "source": [
        "query = \"\"\"\n",
        "SELECT genre,name,score,votes FROM movies\n",
        "WHERE (genre,score) IN (SELECT genre, MAX(score) FROM movies\n",
        "                        WHERE votes > 25000\n",
        "                        GROUP BY genre)\n",
        "AND votes > 25000\n",
        "\n",
        "\"\"\"\n",
        "result = pd.read_sql_query(query,conn)\n",
        "print(result)"
      ],
      "metadata": {
        "colab": {
          "base_uri": "https://localhost:8080/"
        },
        "id": "eS0xNKiVdum8",
        "outputId": "8a4fb89c-5225-4459-aaac-8980ce278eb8"
      },
      "execution_count": null,
      "outputs": [
        {
          "output_type": "stream",
          "name": "stdout",
          "text": [
            "        genre                                               name  score  \\\n",
            "0      Horror                                          The Thing    8.1   \n",
            "1      Family                         E.T. the Extra-Terrestrial    7.8   \n",
            "2     Romance                                            Starman    7.0   \n",
            "3   Adventure                                 Back to the Future    8.5   \n",
            "4   Biography                                   Schindler's List    8.9   \n",
            "5       Drama                           The Shawshank Redemption    9.3   \n",
            "6       Crime                                       Pulp Fiction    8.9   \n",
            "7      Comedy                                  Life Is Beautiful    8.6   \n",
            "8     Fantasy                                          Dark City    7.6   \n",
            "9     Mystery                                            Memento    8.4   \n",
            "10     Action  The Lord of the Rings: The Fellowship of the Ring    8.8   \n",
            "11  Animation                                      Spirited Away    8.6   \n",
            "\n",
            "        votes  \n",
            "0    382000.0  \n",
            "1    381000.0  \n",
            "2     44000.0  \n",
            "3   1100000.0  \n",
            "4   1200000.0  \n",
            "5   2400000.0  \n",
            "6   1900000.0  \n",
            "7    642000.0  \n",
            "8    191000.0  \n",
            "9   1200000.0  \n",
            "10  1700000.0  \n",
            "11   679000.0  \n"
          ]
        }
      ]
    },
    {
      "cell_type": "code",
      "source": [
        "query = \"\"\"\n",
        "SELECT genre, name,MAX(score),votes FROM movies\n",
        "WHERE votes > 25000\n",
        "GROUP BY genre\n",
        "\"\"\"\n",
        "result = pd.read_sql_query(query,conn)\n",
        "print(result)"
      ],
      "metadata": {
        "colab": {
          "base_uri": "https://localhost:8080/"
        },
        "id": "yya9jpTCeZBA",
        "outputId": "a128674e-2d38-4733-cc5c-e27b5ba48e31"
      },
      "execution_count": null,
      "outputs": [
        {
          "output_type": "stream",
          "name": "stdout",
          "text": [
            "        genre                                               name  MAX(score)  \\\n",
            "0      Action  The Lord of the Rings: The Fellowship of the Ring         8.8   \n",
            "1   Adventure                                 Back to the Future         8.5   \n",
            "2   Animation                                      Spirited Away         8.6   \n",
            "3   Biography                                   Schindler's List         8.9   \n",
            "4      Comedy                                  Life Is Beautiful         8.6   \n",
            "5       Crime                                       Pulp Fiction         8.9   \n",
            "6       Drama                           The Shawshank Redemption         9.3   \n",
            "7      Family                         E.T. the Extra-Terrestrial         7.8   \n",
            "8     Fantasy                                          Dark City         7.6   \n",
            "9      Horror                                          The Thing         8.1   \n",
            "10    Mystery                                            Memento         8.4   \n",
            "11    Romance                                            Starman         7.0   \n",
            "\n",
            "        votes  \n",
            "0   1700000.0  \n",
            "1   1100000.0  \n",
            "2    679000.0  \n",
            "3   1200000.0  \n",
            "4    642000.0  \n",
            "5   1900000.0  \n",
            "6   2400000.0  \n",
            "7    381000.0  \n",
            "8    191000.0  \n",
            "9    382000.0  \n",
            "10  1200000.0  \n",
            "11    44000.0  \n"
          ]
        }
      ]
    },
    {
      "cell_type": "markdown",
      "source": [
        "9. Find highest grossing movies of top 5 actor/director combo in terms of total gross income"
      ],
      "metadata": {
        "id": "g7MllYiXgmtF"
      }
    },
    {
      "cell_type": "code",
      "source": [
        "query = \"\"\"\n",
        "\n",
        "SELECT name FROM movies\n",
        "WHERE (star,director,gross) IN (SELECT star,director,MAX(gross) FROM movies\n",
        "GROUP BY star,director\n",
        "ORDER BY SUM(gross) DESC LIMIT 5)\n",
        "\n",
        "\n",
        "\n",
        "\"\"\"\n",
        "result = pd.read_sql_query(query,conn)\n",
        "print(result)\n"
      ],
      "metadata": {
        "colab": {
          "base_uri": "https://localhost:8080/"
        },
        "id": "kNsQlzWmfZ-5",
        "outputId": "54cedf76-f5af-4724-a365-f4c5795dfd65"
      },
      "execution_count": null,
      "outputs": [
        {
          "output_type": "stream",
          "name": "stdout",
          "text": [
            "                                 name\n",
            "0  Indiana Jones and the Last Crusade\n",
            "1                     Lethal Weapon 3\n",
            "2                        Forrest Gump\n",
            "3                       The Lion King\n",
            "4                             Titanic\n"
          ]
        }
      ]
    },
    {
      "cell_type": "markdown",
      "source": [
        "### Correlated Subqueries"
      ],
      "metadata": {
        "id": "apQEK9CHlSS8"
      }
    },
    {
      "cell_type": "markdown",
      "source": [
        "10. Find all those movies that have a rating higher than the average rating of movies in the same genre"
      ],
      "metadata": {
        "id": "zLQYEC_KlcJ-"
      }
    },
    {
      "cell_type": "code",
      "source": [
        "query = \"\"\"\n",
        "SELECT name FROM movies m1\n",
        "WHERE score > (SELECT AVG(score) FROM movies m2  WHERE m2.genre = m1.genre)\n",
        "\"\"\"\n",
        "result = pd.read_sql_query(query,conn)\n",
        "print(result)\n"
      ],
      "metadata": {
        "colab": {
          "base_uri": "https://localhost:8080/"
        },
        "id": "jQSKiEZviWS5",
        "outputId": "abd009a4-b336-45a9-8cdb-a94a77bb0d95"
      },
      "execution_count": null,
      "outputs": [
        {
          "output_type": "stream",
          "name": "stdout",
          "text": [
            "                                                name\n",
            "0                                        The Shining\n",
            "1     Star Wars: Episode V - The Empire Strikes Back\n",
            "2                                          Airplane!\n",
            "3                                         Caddyshack\n",
            "4                                    Friday the 13th\n",
            "...                                              ...\n",
            "2099                                Buffalo Soldiers\n",
            "2100                           The Anniversary Party\n",
            "2101                                        Blow Dry\n",
            "2102                                    Human Nature\n",
            "2103                                            Made\n",
            "\n",
            "[2104 rows x 1 columns]\n"
          ]
        }
      ]
    },
    {
      "cell_type": "markdown",
      "source": [
        "11. Get the percentage of votes for each movie compared to total percentage of votes"
      ],
      "metadata": {
        "id": "YnBw_xgqC2tA"
      }
    },
    {
      "cell_type": "code",
      "source": [
        "query = \"\"\"\n",
        "SELECT name,(votes/(SELECT SUM(votes) FROM movies))*100 as percentage_votes FROM movies\n",
        "\n",
        "\"\"\"\n",
        "result = pd.read_sql_query(query,conn)\n",
        "print(result)"
      ],
      "metadata": {
        "id": "PW-zxFeXmsrw",
        "colab": {
          "base_uri": "https://localhost:8080/"
        },
        "outputId": "b6634967-ee8f-48ba-99f9-b5f279525a64"
      },
      "execution_count": null,
      "outputs": [
        {
          "output_type": "stream",
          "name": "stdout",
          "text": [
            "                                                name  percentage_votes\n",
            "0                                        The Shining          0.425272\n",
            "1                                    The Blue Lagoon          0.029820\n",
            "2     Star Wars: Episode V - The Empire Strikes Back          0.550514\n",
            "3                                          Airplane!          0.101386\n",
            "4                                         Caddyshack          0.049546\n",
            "...                                              ...               ...\n",
            "3995                                   Birthday Girl          0.011469\n",
            "3996                                    Human Nature          0.008258\n",
            "3997                                            Made          0.008258\n",
            "3998                           One Night at McCool's          0.013304\n",
            "3999                                  Dr. Dolittle 2          0.019268\n",
            "\n",
            "[4000 rows x 2 columns]\n"
          ]
        }
      ]
    },
    {
      "cell_type": "markdown",
      "source": [
        "12. Display all movie names, genre, score and avg(score) of genre"
      ],
      "metadata": {
        "id": "Mj-zQf6xEZiU"
      }
    },
    {
      "cell_type": "code",
      "source": [
        "query = \"\"\"\n",
        "SELECT name,genre,score,(SELECT AVG(score) FROM movies m2 WHERE m2.genre = m1.genre) FROM movies m1\n",
        "\"\"\"\n",
        "result = pd.read_sql_query(query,conn)\n",
        "print(result)"
      ],
      "metadata": {
        "colab": {
          "base_uri": "https://localhost:8080/"
        },
        "id": "pVy597j7DT_U",
        "outputId": "1229c975-baa4-419b-e4a8-65d21a91e2f4"
      },
      "execution_count": null,
      "outputs": [
        {
          "output_type": "stream",
          "name": "stdout",
          "text": [
            "                                                name      genre  score  \\\n",
            "0                                        The Shining      Drama    8.4   \n",
            "1                                    The Blue Lagoon  Adventure    5.8   \n",
            "2     Star Wars: Episode V - The Empire Strikes Back     Action    8.7   \n",
            "3                                          Airplane!     Comedy    7.7   \n",
            "4                                         Caddyshack     Comedy    7.3   \n",
            "...                                              ...        ...    ...   \n",
            "3995                                   Birthday Girl     Comedy    6.1   \n",
            "3996                                    Human Nature     Comedy    6.4   \n",
            "3997                                            Made     Comedy    6.4   \n",
            "3998                           One Night at McCool's     Comedy    6.1   \n",
            "3999                                  Dr. Dolittle 2     Comedy    4.7   \n",
            "\n",
            "      (SELECT AVG(score) FROM movies m2 WHERE m2.genre = m1.genre)  \n",
            "0                                              6.673606             \n",
            "1                                              6.151948             \n",
            "2                                              6.014968             \n",
            "3                                              6.179410             \n",
            "4                                              6.179410             \n",
            "...                                                 ...             \n",
            "3995                                           6.179410             \n",
            "3996                                           6.179410             \n",
            "3997                                           6.179410             \n",
            "3998                                           6.179410             \n",
            "3999                                           6.179410             \n",
            "\n",
            "[4000 rows x 4 columns]\n"
          ]
        }
      ]
    },
    {
      "cell_type": "markdown",
      "source": [
        "13. Find genres having avg score > avg score of all the movies"
      ],
      "metadata": {
        "id": "GKja7gHZzSkG"
      }
    },
    {
      "cell_type": "code",
      "source": [
        "query = \"\"\"\n",
        "SELECT genre,AVG(score) FROM movies\n",
        "GROUP BY genre\n",
        "HAVING AVG(score) > (SELECT AVG(score) FROM movies)\n",
        "\"\"\"\n",
        "result = pd.read_sql_query(query,conn)\n",
        "print(result)"
      ],
      "metadata": {
        "colab": {
          "base_uri": "https://localhost:8080/"
        },
        "id": "6g5Yan84E8WB",
        "outputId": "3a2169d9-6040-4d56-d8ba-ad5dfaed7581"
      },
      "execution_count": null,
      "outputs": [
        {
          "output_type": "stream",
          "name": "stdout",
          "text": [
            "       genre  AVG(score)\n",
            "0  Animation    6.883186\n",
            "1  Biography    7.052000\n",
            "2      Crime    6.645033\n",
            "3      Drama    6.673606\n",
            "4     Family    6.550000\n",
            "5    History    8.300000\n",
            "6      Music    7.200000\n",
            "7    Mystery    6.500000\n",
            "8    Romance    6.400000\n"
          ]
        }
      ]
    },
    {
      "cell_type": "code",
      "source": [],
      "metadata": {
        "id": "8ONYHCryz34_"
      },
      "execution_count": null,
      "outputs": []
    }
  ],
  "metadata": {
    "colab": {
      "provenance": []
    },
    "kernelspec": {
      "display_name": "Python 3",
      "name": "python3"
    },
    "language_info": {
      "name": "python"
    }
  },
  "nbformat": 4,
  "nbformat_minor": 0
}