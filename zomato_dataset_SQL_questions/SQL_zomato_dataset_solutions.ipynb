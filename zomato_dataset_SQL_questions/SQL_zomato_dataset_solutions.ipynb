{
  "cells": [
    {
      "cell_type": "code",
      "execution_count": null,
      "metadata": {
        "colab": {
          "base_uri": "https://localhost:8080/"
        },
        "id": "DGxMv5GEQ8Dl",
        "outputId": "28b9d4be-3215-4070-878e-efd94f18ead2"
      },
      "outputs": [
        {
          "output_type": "stream",
          "name": "stdout",
          "text": [
            "CSV converted to DB successfully!\n"
          ]
        }
      ],
      "source": [
        "import pandas as pd\n",
        "import sqlite3\n",
        "\n",
        "# Load CSV\n",
        "\n",
        "df_users = pd.read_csv('/content/users.csv')\n",
        "df_restaurants = pd.read_csv('/content/restaurants.csv')\n",
        "df_orders = pd.read_csv('/content/orders.csv')\n",
        "df_order_details = pd.read_csv('/content/order_details.csv')\n",
        "df_menu = pd.read_csv('/content/menu.csv')\n",
        "df_food = pd.read_csv('/content/food.csv')\n",
        "df_delivery_partner = pd.read_csv('/content/delivery_partner.csv')\n",
        "\n",
        "# Create SQLite DB file\n",
        "conn = sqlite3.connect(':memory:')\n",
        "df_users.to_sql('users', conn, index=False, if_exists='replace')\n",
        "df_restaurants.to_sql('restaurants', conn, index=False, if_exists='replace')\n",
        "df_orders.to_sql('orders', conn, index=False, if_exists='replace')\n",
        "df_order_details.to_sql('order_details', conn, index=False, if_exists='replace')\n",
        "df_menu.to_sql('menu', conn, index=False, if_exists='replace')\n",
        "df_food.to_sql('food', conn, index=False, if_exists='replace')\n",
        "df_delivery_partner.to_sql('delivery_parter', conn, index=False, if_exists='replace')\n",
        "#conn.close()\n",
        "print(\"CSV converted to DB successfully!\")"
      ]
    },
    {
      "cell_type": "code",
      "source": [
        "print(df_users.columns,'\\n',df_restaurants.columns,'\\n',df_orders.columns,'\\n',df_order_details.columns,'\\n',df_menu.columns,'\\n',df_food.columns,'\\n',df_delivery_partner.columns,'\\n',)"
      ],
      "metadata": {
        "colab": {
          "base_uri": "https://localhost:8080/"
        },
        "id": "8MIEV60Mn_hb",
        "outputId": "2ff266c8-f98f-497f-a960-0c92bfb565a0"
      },
      "execution_count": null,
      "outputs": [
        {
          "output_type": "stream",
          "name": "stdout",
          "text": [
            "Index(['user_id', 'name', 'email', 'password'], dtype='object') \n",
            " Index(['r_id', 'r_name', 'cuisine'], dtype='object') \n",
            " Index(['order_id', 'user_id', 'r_id', 'amount', 'date', 'partner_id',\n",
            "       'delivery_time', 'delivery_rating', 'restaurant_rating'],\n",
            "      dtype='object') \n",
            " Index(['id', 'order_id', 'f_id'], dtype='object') \n",
            " Index(['menu_id', 'r_id', 'f_id', 'price'], dtype='object') \n",
            " Index(['f_id', 'f_name', 'type'], dtype='object') \n",
            " Index(['partner_id', 'partner_name'], dtype='object') \n",
            "\n"
          ]
        }
      ]
    },
    {
      "cell_type": "markdown",
      "source": [
        "### Independent Row Subqueries"
      ],
      "metadata": {
        "id": "fng1YdXE8O_e"
      }
    },
    {
      "cell_type": "markdown",
      "source": [
        "1. Find all users who never ordered"
      ],
      "metadata": {
        "id": "ftHKhUgzJR2i"
      }
    },
    {
      "cell_type": "code",
      "source": [
        "query = \"\"\"\n",
        "SELECT * FROM users\n",
        "WHERE user_id NOT IN (SELECT DISTINCT(user_id) FROM orders)\n",
        "\"\"\"\n",
        "result = pd.read_sql_query(query, conn)\n",
        "print(result)"
      ],
      "metadata": {
        "colab": {
          "base_uri": "https://localhost:8080/"
        },
        "id": "XJq_vARzJT1F",
        "outputId": "9c968d24-413b-4825-8de0-8fc61e8c7a8c"
      },
      "execution_count": null,
      "outputs": [
        {
          "output_type": "stream",
          "name": "stdout",
          "text": [
            "   user_id     name              email password\n",
            "0        6  Anupama  anupama@gmail.com   46rdw2\n",
            "1        7  Rishabh  rishabh@gmail.com   4sw123\n"
          ]
        }
      ]
    },
    {
      "cell_type": "markdown",
      "source": [
        "### Correlated subqueries"
      ],
      "metadata": {
        "id": "Rnze6U6_oq7m"
      }
    },
    {
      "cell_type": "markdown",
      "source": [
        "2. Find the favorite food of each customer"
      ],
      "metadata": {
        "id": "h-dr4ZaWLcrj"
      }
    },
    {
      "cell_type": "code",
      "source": [
        "print(df_users.columns,'\\n',df_restaurants.columns,'\\n',df_orders.columns,'\\n',df_order_details.columns,'\\n',df_menu.columns,'\\n',df_food.columns,'\\n',df_delivery_partner.columns,'\\n',)"
      ],
      "metadata": {
        "colab": {
          "base_uri": "https://localhost:8080/"
        },
        "id": "5f_WdXx4p5_g",
        "outputId": "e64366d5-c0c5-43d2-e961-44a888e7077e"
      },
      "execution_count": null,
      "outputs": [
        {
          "output_type": "stream",
          "name": "stdout",
          "text": [
            "Index(['user_id', 'name', 'email', 'password'], dtype='object') \n",
            " Index(['r_id', 'r_name', 'cuisine'], dtype='object') \n",
            " Index(['order_id', 'user_id', 'r_id', 'amount', 'date', 'partner_id',\n",
            "       'delivery_time', 'delivery_rating', 'restaurant_rating'],\n",
            "      dtype='object') \n",
            " Index(['id', 'order_id', 'f_id'], dtype='object') \n",
            " Index(['menu_id', 'r_id', 'f_id', 'price'], dtype='object') \n",
            " Index(['f_id', 'f_name', 'type'], dtype='object') \n",
            " Index(['partner_id', 'partner_name'], dtype='object') \n",
            "\n"
          ]
        }
      ]
    },
    {
      "cell_type": "code",
      "source": [
        "query = \"\"\"\n",
        "WITH fav_food AS (\n",
        "SELECT t4.user_id, name,f_name,COUNT(*) as frequency FROM order_details t1\n",
        "JOIN food t2\n",
        "ON t1.f_id = t2.f_id\n",
        "JOIN orders t3\n",
        "ON t3.order_id = t1.order_id\n",
        "JOIN users t4\n",
        "ON t4.user_id = t3.user_id\n",
        "GROUP BY t4.user_id,t1.f_id\n",
        ")\n",
        "\n",
        "SELECT * FROM fav_food f1\n",
        "WHERE frequency = (SELECT MAX(frequency)\n",
        "                   FROM fav_food f2\n",
        "                   WHERE f2.user_id = f1.user_id)\n",
        "\"\"\"\n",
        "\n",
        "result = pd.read_sql_query(query,conn)\n",
        "print(result)"
      ],
      "metadata": {
        "colab": {
          "base_uri": "https://localhost:8080/"
        },
        "id": "zncKSM7NJgRi",
        "outputId": "876d5c0a-5353-4800-c456-9372a4e8a969"
      },
      "execution_count": null,
      "outputs": [
        {
          "output_type": "stream",
          "name": "stdout",
          "text": [
            "   user_id      name            f_name  frequency\n",
            "0        1    Nitish   Choco Lava cake          5\n",
            "1        2  Khushboo   Choco Lava cake          3\n",
            "2        3   Vartika     Chicken Wings          3\n",
            "3        4     Ankit  Schezwan Noodles          3\n",
            "4        4     Ankit    Veg Manchurian          3\n",
            "5        5      Neha   Choco Lava cake          5\n"
          ]
        }
      ]
    },
    {
      "cell_type": "markdown",
      "source": [
        "3. Display average rating of all restaurents"
      ],
      "metadata": {
        "id": "_uuuG1xbGKEN"
      }
    },
    {
      "cell_type": "code",
      "source": [
        "\n",
        "query = \"\"\"\n",
        "SELECT r_name,avg_rating\n",
        "FROM (SELECT r_id,AVG(restaurant_rating) AS 'avg_rating'\n",
        "      FROM orders\n",
        "      GROUP BY r_id) t1 JOIN restaurants t2\n",
        "      ON t1.r_id = t2.r_id\n",
        "\"\"\"\n",
        "result = pd.read_sql_query(query,conn)\n",
        "print(result)"
      ],
      "metadata": {
        "id": "7aWnNi2jqBXM",
        "colab": {
          "base_uri": "https://localhost:8080/"
        },
        "outputId": "47a2b8ff-a185-49fc-d62f-9494c9818157"
      },
      "execution_count": null,
      "outputs": [
        {
          "output_type": "stream",
          "name": "stdout",
          "text": [
            "       r_name  avg_rating\n",
            "0     dominos    1.666667\n",
            "1         kfc    2.200000\n",
            "2        box8    4.666667\n",
            "3  Dosa Plaza    3.666667\n",
            "4  China Town    3.666667\n"
          ]
        }
      ]
    },
    {
      "cell_type": "markdown",
      "source": [
        "4. Delete all the customers record who have never ordered"
      ],
      "metadata": {
        "id": "CFPR4dkN2Xd3"
      }
    },
    {
      "cell_type": "code",
      "source": [
        "\n",
        "query = \"\"\"\n",
        "\n",
        "DELETE FROM users\n",
        "WHERE user_id IN (SELECT user_id FROM users\n",
        "              WHERE user_id NOT IN (SELECT DISTINCT(user_id) FROM orders ))\n",
        "\"\"\"\n",
        "result = pd.read_sql_query(query,conn)\n",
        "print(result)"
      ],
      "metadata": {
        "id": "4mEgttFquVoQ",
        "colab": {
          "base_uri": "https://localhost:8080/",
          "height": 356
        },
        "outputId": "9121e486-2007-4138-d92d-30d945e327d7"
      },
      "execution_count": null,
      "outputs": [
        {
          "output_type": "error",
          "ename": "TypeError",
          "evalue": "'NoneType' object is not iterable",
          "traceback": [
            "\u001b[0;31m---------------------------------------------------------------------------\u001b[0m",
            "\u001b[0;31mTypeError\u001b[0m                                 Traceback (most recent call last)",
            "\u001b[0;32m/tmp/ipython-input-2-3559030531.py\u001b[0m in \u001b[0;36m<cell line: 0>\u001b[0;34m()\u001b[0m\n\u001b[1;32m      5\u001b[0m               WHERE user_id NOT IN (SELECT DISTINCT(user_id) FROM orders ))\n\u001b[1;32m      6\u001b[0m \"\"\"\n\u001b[0;32m----> 7\u001b[0;31m \u001b[0mresult\u001b[0m \u001b[0;34m=\u001b[0m \u001b[0mpd\u001b[0m\u001b[0;34m.\u001b[0m\u001b[0mread_sql_query\u001b[0m\u001b[0;34m(\u001b[0m\u001b[0mquery\u001b[0m\u001b[0;34m,\u001b[0m\u001b[0mconn\u001b[0m\u001b[0;34m)\u001b[0m\u001b[0;34m\u001b[0m\u001b[0;34m\u001b[0m\u001b[0m\n\u001b[0m\u001b[1;32m      8\u001b[0m \u001b[0mprint\u001b[0m\u001b[0;34m(\u001b[0m\u001b[0mresult\u001b[0m\u001b[0;34m)\u001b[0m\u001b[0;34m\u001b[0m\u001b[0;34m\u001b[0m\u001b[0m\n",
            "\u001b[0;32m/usr/local/lib/python3.11/dist-packages/pandas/io/sql.py\u001b[0m in \u001b[0;36mread_sql_query\u001b[0;34m(sql, con, index_col, coerce_float, params, parse_dates, chunksize, dtype, dtype_backend)\u001b[0m\n\u001b[1;32m    524\u001b[0m \u001b[0;34m\u001b[0m\u001b[0m\n\u001b[1;32m    525\u001b[0m     \u001b[0;32mwith\u001b[0m \u001b[0mpandasSQL_builder\u001b[0m\u001b[0;34m(\u001b[0m\u001b[0mcon\u001b[0m\u001b[0;34m)\u001b[0m \u001b[0;32mas\u001b[0m \u001b[0mpandas_sql\u001b[0m\u001b[0;34m:\u001b[0m\u001b[0;34m\u001b[0m\u001b[0;34m\u001b[0m\u001b[0m\n\u001b[0;32m--> 526\u001b[0;31m         return pandas_sql.read_query(\n\u001b[0m\u001b[1;32m    527\u001b[0m             \u001b[0msql\u001b[0m\u001b[0;34m,\u001b[0m\u001b[0;34m\u001b[0m\u001b[0;34m\u001b[0m\u001b[0m\n\u001b[1;32m    528\u001b[0m             \u001b[0mindex_col\u001b[0m\u001b[0;34m=\u001b[0m\u001b[0mindex_col\u001b[0m\u001b[0;34m,\u001b[0m\u001b[0;34m\u001b[0m\u001b[0;34m\u001b[0m\u001b[0m\n",
            "\u001b[0;32m/usr/local/lib/python3.11/dist-packages/pandas/io/sql.py\u001b[0m in \u001b[0;36mread_query\u001b[0;34m(self, sql, index_col, coerce_float, parse_dates, params, chunksize, dtype, dtype_backend)\u001b[0m\n\u001b[1;32m   2737\u001b[0m     ) -> DataFrame | Iterator[DataFrame]:\n\u001b[1;32m   2738\u001b[0m         \u001b[0mcursor\u001b[0m \u001b[0;34m=\u001b[0m \u001b[0mself\u001b[0m\u001b[0;34m.\u001b[0m\u001b[0mexecute\u001b[0m\u001b[0;34m(\u001b[0m\u001b[0msql\u001b[0m\u001b[0;34m,\u001b[0m \u001b[0mparams\u001b[0m\u001b[0;34m)\u001b[0m\u001b[0;34m\u001b[0m\u001b[0;34m\u001b[0m\u001b[0m\n\u001b[0;32m-> 2739\u001b[0;31m         \u001b[0mcolumns\u001b[0m \u001b[0;34m=\u001b[0m \u001b[0;34m[\u001b[0m\u001b[0mcol_desc\u001b[0m\u001b[0;34m[\u001b[0m\u001b[0;36m0\u001b[0m\u001b[0;34m]\u001b[0m \u001b[0;32mfor\u001b[0m \u001b[0mcol_desc\u001b[0m \u001b[0;32min\u001b[0m \u001b[0mcursor\u001b[0m\u001b[0;34m.\u001b[0m\u001b[0mdescription\u001b[0m\u001b[0;34m]\u001b[0m\u001b[0;34m\u001b[0m\u001b[0;34m\u001b[0m\u001b[0m\n\u001b[0m\u001b[1;32m   2740\u001b[0m \u001b[0;34m\u001b[0m\u001b[0m\n\u001b[1;32m   2741\u001b[0m         \u001b[0;32mif\u001b[0m \u001b[0mchunksize\u001b[0m \u001b[0;32mis\u001b[0m \u001b[0;32mnot\u001b[0m \u001b[0;32mNone\u001b[0m\u001b[0;34m:\u001b[0m\u001b[0;34m\u001b[0m\u001b[0;34m\u001b[0m\u001b[0m\n",
            "\u001b[0;31mTypeError\u001b[0m: 'NoneType' object is not iterable"
          ]
        }
      ]
    },
    {
      "cell_type": "markdown",
      "source": [
        "since the users are already deleted it is showing typeError as ' NoneType'\n",
        "\n"
      ],
      "metadata": {
        "id": "fiJquZTtFFX3"
      }
    },
    {
      "cell_type": "code",
      "source": [
        "query = \"\"\"\n",
        "SELECT user_id FROM users\n",
        "\"\"\"\n",
        "result = pd.read_sql_query(query,conn)\n",
        "print(result)"
      ],
      "metadata": {
        "colab": {
          "base_uri": "https://localhost:8080/"
        },
        "id": "2NtgIH-s3LEi",
        "outputId": "57211a59-ebeb-4c92-d2ea-c6023ce325e5"
      },
      "execution_count": null,
      "outputs": [
        {
          "output_type": "stream",
          "name": "stdout",
          "text": [
            "   user_id\n",
            "0        1\n",
            "1        2\n",
            "2        3\n",
            "3        4\n",
            "4        5\n"
          ]
        }
      ]
    },
    {
      "cell_type": "markdown",
      "source": [
        "5. Find top 2 most paying customers of each month"
      ],
      "metadata": {
        "id": "UMqNyoprQcE6"
      }
    },
    {
      "cell_type": "code",
      "source": [
        "query = \"\"\"\n",
        "SELECT * FROM (SELECT strftime('%m', date) as month,user_id,SUM(amount) as amount,\n",
        "DENSE_RANK() OVER(PARTITION BY strftime('%m', date) ORDER BY SUM(amount) DESC) as month_rank\n",
        "FROM orders\n",
        "GROUP BY month,user_id\n",
        "ORDER BY strftime('%m', date)) t\n",
        "WHERE t.month_rank < 3\n",
        "\"\"\"\n",
        "result = pd.read_sql_query(query,conn)\n",
        "print(result)"
      ],
      "metadata": {
        "colab": {
          "base_uri": "https://localhost:8080/"
        },
        "id": "7qT7wd8p371m",
        "outputId": "56f2d474-419a-4cf3-f7bf-a27c98d55a5c"
      },
      "execution_count": null,
      "outputs": [
        {
          "output_type": "stream",
          "name": "stdout",
          "text": [
            "  month  user_id  amount  month_rank\n",
            "0    05        1     965           1\n",
            "1    05        3     860           2\n",
            "2    06        2    1480           1\n",
            "3    06        4     800           2\n",
            "4    07        5    3035           1\n",
            "5    07        2    1190           2\n"
          ]
        }
      ]
    },
    {
      "cell_type": "markdown",
      "source": [
        "6. Find MoM revenue growth of Zomato"
      ],
      "metadata": {
        "id": "jIaErgm-T1v5"
      }
    },
    {
      "cell_type": "code",
      "source": [
        "query = \"\"\"\n",
        "WITH monthly_totals AS (\n",
        "  SELECT\n",
        "    strftime('%m', date) AS month,\n",
        "    SUM(amount) AS total_amount\n",
        "  FROM orders\n",
        "  GROUP BY strftime('%m', date)\n",
        "  ORDER BY strftime('%m', date)\n",
        ")\n",
        "\n",
        "SELECT\n",
        "  month,\n",
        "  total_amount,\n",
        "  LAG(total_amount) OVER (ORDER BY month),\n",
        "  (total_amount - LAG(total_amount) OVER (ORDER BY month)) * 100.0 /(LAG(total_amount) OVER (ORDER BY month)) as revenue_growth_percent\n",
        "FROM monthly_totals\n",
        "ORDER BY month;\n",
        "\n",
        "\"\"\"\n",
        "result = pd.read_sql_query(query,conn)\n",
        "print(result)"
      ],
      "metadata": {
        "colab": {
          "base_uri": "https://localhost:8080/"
        },
        "id": "AtoILIeL4At0",
        "outputId": "de850ad0-7f04-44f3-99e4-9861c5988b76"
      },
      "execution_count": null,
      "outputs": [
        {
          "output_type": "stream",
          "name": "stdout",
          "text": [
            "  month  total_amount  LAG(total_amount) OVER (ORDER BY month)  \\\n",
            "0    05          2425                                      NaN   \n",
            "1    06          3220                                   2425.0   \n",
            "2    07          4845                                   3220.0   \n",
            "\n",
            "   revenue_growth_percent  \n",
            "0                     NaN  \n",
            "1               32.783505  \n",
            "2               50.465839  \n"
          ]
        }
      ]
    },
    {
      "cell_type": "code",
      "source": [],
      "metadata": {
        "id": "_UXaE6ONVCcf"
      },
      "execution_count": null,
      "outputs": []
    }
  ],
  "metadata": {
    "colab": {
      "provenance": []
    },
    "kernelspec": {
      "display_name": "Python 3",
      "name": "python3"
    },
    "language_info": {
      "name": "python"
    }
  },
  "nbformat": 4,
  "nbformat_minor": 0
}